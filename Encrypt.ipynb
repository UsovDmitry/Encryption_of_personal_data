{
 "cells": [
  {
   "cell_type": "markdown",
   "metadata": {
    "toc": true
   },
   "source": [
    "<h1>Содержание<span class=\"tocSkip\"></span></h1>\n",
    "<div class=\"toc\"><ul class=\"toc-item\"><li><span><a href=\"#Загрузка-данных\" data-toc-modified-id=\"Загрузка-данных-1\"><span class=\"toc-item-num\">1&nbsp;&nbsp;</span>Загрузка данных</a></span></li><li><span><a href=\"#Умножение-матриц\" data-toc-modified-id=\"Умножение-матриц-2\"><span class=\"toc-item-num\">2&nbsp;&nbsp;</span>Умножение матриц</a></span></li><li><span><a href=\"#Алгоритм-преобразования\" data-toc-modified-id=\"Алгоритм-преобразования-3\"><span class=\"toc-item-num\">3&nbsp;&nbsp;</span>Алгоритм преобразования</a></span></li><li><span><a href=\"#Проверка-алгоритма\" data-toc-modified-id=\"Проверка-алгоритма-4\"><span class=\"toc-item-num\">4&nbsp;&nbsp;</span>Проверка алгоритма</a></span></li><li><span><a href=\"#Чек-лист-проверки\" data-toc-modified-id=\"Чек-лист-проверки-5\"><span class=\"toc-item-num\">5&nbsp;&nbsp;</span>Чек-лист проверки</a></span></li></ul></div>"
   ]
  },
  {
   "cell_type": "markdown",
   "metadata": {},
   "source": [
    "# Защита персональных данных клиентов"
   ]
  },
  {
   "cell_type": "markdown",
   "metadata": {},
   "source": [
    "Вам нужно защитить данные клиентов страховой компании «Хоть потоп». Разработайте такой метод преобразования данных, чтобы по ним было сложно восстановить персональную информацию. Обоснуйте корректность его работы.\n",
    "\n",
    "Нужно защитить данные, чтобы при преобразовании качество моделей машинного обучения не ухудшилось. Подбирать наилучшую модель не требуется."
   ]
  },
  {
   "cell_type": "markdown",
   "metadata": {},
   "source": [
    "## Загрузка данных"
   ]
  },
  {
   "cell_type": "code",
   "execution_count": 1,
   "metadata": {},
   "outputs": [],
   "source": [
    "import pandas as pd\n",
    "import numpy as np\n",
    "from sklearn.linear_model import LinearRegression\n",
    "from sklearn.metrics import r2_score"
   ]
  },
  {
   "cell_type": "code",
   "execution_count": 2,
   "metadata": {},
   "outputs": [],
   "source": [
    "df = pd.read_csv('/datasets/insurance.csv')"
   ]
  },
  {
   "cell_type": "markdown",
   "metadata": {},
   "source": [
    "Оценим загруженные данные..."
   ]
  },
  {
   "cell_type": "code",
   "execution_count": 3,
   "metadata": {},
   "outputs": [
    {
     "name": "stdout",
     "output_type": "stream",
     "text": [
      "<class 'pandas.core.frame.DataFrame'>\n",
      "RangeIndex: 5000 entries, 0 to 4999\n",
      "Data columns (total 5 columns):\n",
      " #   Column             Non-Null Count  Dtype  \n",
      "---  ------             --------------  -----  \n",
      " 0   Пол                5000 non-null   int64  \n",
      " 1   Возраст            5000 non-null   float64\n",
      " 2   Зарплата           5000 non-null   float64\n",
      " 3   Члены семьи        5000 non-null   int64  \n",
      " 4   Страховые выплаты  5000 non-null   int64  \n",
      "dtypes: float64(2), int64(3)\n",
      "memory usage: 195.4 KB\n",
      "None\n",
      "\n",
      "Кол-во дубликатов: 153\n",
      "\n",
      "Кол-во пропусков:\n",
      " Пол                  0\n",
      "Возраст              0\n",
      "Зарплата             0\n",
      "Члены семьи          0\n",
      "Страховые выплаты    0\n",
      "dtype: int64\n"
     ]
    }
   ],
   "source": [
    "print (df.info())\n",
    "print ('\\nКол-во дубликатов:',df.duplicated().sum())\n",
    "print ('\\nКол-во пропусков:\\n',df.isna().sum())"
   ]
  },
  {
   "cell_type": "code",
   "execution_count": 4,
   "metadata": {
    "scrolled": true
   },
   "outputs": [
    {
     "data": {
      "text/html": [
       "<div>\n",
       "<style scoped>\n",
       "    .dataframe tbody tr th:only-of-type {\n",
       "        vertical-align: middle;\n",
       "    }\n",
       "\n",
       "    .dataframe tbody tr th {\n",
       "        vertical-align: top;\n",
       "    }\n",
       "\n",
       "    .dataframe thead th {\n",
       "        text-align: right;\n",
       "    }\n",
       "</style>\n",
       "<table border=\"1\" class=\"dataframe\">\n",
       "  <thead>\n",
       "    <tr style=\"text-align: right;\">\n",
       "      <th></th>\n",
       "      <th>Пол</th>\n",
       "      <th>Возраст</th>\n",
       "      <th>Зарплата</th>\n",
       "      <th>Члены семьи</th>\n",
       "      <th>Страховые выплаты</th>\n",
       "    </tr>\n",
       "  </thead>\n",
       "  <tbody>\n",
       "    <tr>\n",
       "      <th>0</th>\n",
       "      <td>1</td>\n",
       "      <td>41</td>\n",
       "      <td>49600</td>\n",
       "      <td>1</td>\n",
       "      <td>0</td>\n",
       "    </tr>\n",
       "    <tr>\n",
       "      <th>1</th>\n",
       "      <td>0</td>\n",
       "      <td>46</td>\n",
       "      <td>38000</td>\n",
       "      <td>1</td>\n",
       "      <td>1</td>\n",
       "    </tr>\n",
       "    <tr>\n",
       "      <th>2</th>\n",
       "      <td>0</td>\n",
       "      <td>29</td>\n",
       "      <td>21000</td>\n",
       "      <td>0</td>\n",
       "      <td>0</td>\n",
       "    </tr>\n",
       "    <tr>\n",
       "      <th>3</th>\n",
       "      <td>0</td>\n",
       "      <td>21</td>\n",
       "      <td>41700</td>\n",
       "      <td>2</td>\n",
       "      <td>0</td>\n",
       "    </tr>\n",
       "    <tr>\n",
       "      <th>4</th>\n",
       "      <td>1</td>\n",
       "      <td>28</td>\n",
       "      <td>26100</td>\n",
       "      <td>0</td>\n",
       "      <td>0</td>\n",
       "    </tr>\n",
       "    <tr>\n",
       "      <th>...</th>\n",
       "      <td>...</td>\n",
       "      <td>...</td>\n",
       "      <td>...</td>\n",
       "      <td>...</td>\n",
       "      <td>...</td>\n",
       "    </tr>\n",
       "    <tr>\n",
       "      <th>4842</th>\n",
       "      <td>0</td>\n",
       "      <td>28</td>\n",
       "      <td>35700</td>\n",
       "      <td>2</td>\n",
       "      <td>0</td>\n",
       "    </tr>\n",
       "    <tr>\n",
       "      <th>4843</th>\n",
       "      <td>0</td>\n",
       "      <td>34</td>\n",
       "      <td>52400</td>\n",
       "      <td>1</td>\n",
       "      <td>0</td>\n",
       "    </tr>\n",
       "    <tr>\n",
       "      <th>4844</th>\n",
       "      <td>0</td>\n",
       "      <td>20</td>\n",
       "      <td>33900</td>\n",
       "      <td>2</td>\n",
       "      <td>0</td>\n",
       "    </tr>\n",
       "    <tr>\n",
       "      <th>4845</th>\n",
       "      <td>1</td>\n",
       "      <td>22</td>\n",
       "      <td>32700</td>\n",
       "      <td>3</td>\n",
       "      <td>0</td>\n",
       "    </tr>\n",
       "    <tr>\n",
       "      <th>4846</th>\n",
       "      <td>1</td>\n",
       "      <td>28</td>\n",
       "      <td>40600</td>\n",
       "      <td>1</td>\n",
       "      <td>0</td>\n",
       "    </tr>\n",
       "  </tbody>\n",
       "</table>\n",
       "<p>4847 rows × 5 columns</p>\n",
       "</div>"
      ],
      "text/plain": [
       "      Пол  Возраст  Зарплата  Члены семьи  Страховые выплаты\n",
       "0       1       41     49600            1                  0\n",
       "1       0       46     38000            1                  1\n",
       "2       0       29     21000            0                  0\n",
       "3       0       21     41700            2                  0\n",
       "4       1       28     26100            0                  0\n",
       "...   ...      ...       ...          ...                ...\n",
       "4842    0       28     35700            2                  0\n",
       "4843    0       34     52400            1                  0\n",
       "4844    0       20     33900            2                  0\n",
       "4845    1       22     32700            3                  0\n",
       "4846    1       28     40600            1                  0\n",
       "\n",
       "[4847 rows x 5 columns]"
      ]
     },
     "execution_count": 4,
     "metadata": {},
     "output_type": "execute_result"
    }
   ],
   "source": [
    "df=df.astype('int')\n",
    "df.drop_duplicates(inplace=True)\n",
    "df=df.reset_index(drop=True)\n",
    "df"
   ]
  },
  {
   "cell_type": "markdown",
   "metadata": {},
   "source": [
    "Преамбула....  \n",
    "Немного освежим знания по элементарным действиям над матрицами, в частности  \n",
    "$(AB)C=A(BC)$  \n",
    "$(AB)^T=B^TA^T$  \n",
    "$(AB)^{−1}=B^{−1}A^{−1}$  \n",
    "$(A^T)^{−1}=(A^{−1})^T$  \n",
    "$A^{−1}(AX)=(A^{−1}A)X=EX=X$\n",
    "\n",
    "http://publish.sutd.ru/e_books/lin_alg_2013/html/matrix_33.html"
   ]
  },
  {
   "cell_type": "markdown",
   "metadata": {},
   "source": [
    "## Умножение матриц"
   ]
  },
  {
   "cell_type": "markdown",
   "metadata": {},
   "source": [
    "В этом задании вы можете записывать формулы в *Jupyter Notebook.*\n",
    "\n",
    "Чтобы записать формулу внутри текста, окружите её символами доллара \\\\$; если снаружи —  двойными символами \\\\$\\\\$. Эти формулы записываются на языке вёрстки *LaTeX.* \n",
    "\n",
    "Для примера мы записали формулы линейной регрессии. Можете их скопировать и отредактировать, чтобы решить задачу.\n",
    "\n",
    "Работать в *LaTeX* необязательно."
   ]
  },
  {
   "cell_type": "markdown",
   "metadata": {},
   "source": [
    "Обозначения:\n",
    "\n",
    "- $X$ — матрица признаков (нулевой столбец состоит из единиц)\n",
    "\n",
    "- $y$ — вектор целевого признака\n",
    "\n",
    "- $P$ — матрица, на которую умножаются признаки\n",
    "\n",
    "- $w$ — вектор весов линейной регрессии (нулевой элемент равен сдвигу)"
   ]
  },
  {
   "cell_type": "markdown",
   "metadata": {},
   "source": [
    "Предсказания:\n",
    "\n",
    "$$\n",
    "a = Xw\n",
    "$$\n",
    "\n",
    "Задача обучения:\n",
    "\n",
    "$$\n",
    "w = \\arg\\min_w MSE(Xw, y)\n",
    "$$\n",
    "\n",
    "Формула обучения:\n",
    "\n",
    "$$\n",
    "w = (X^T X)^{-1} X^T y\n",
    "$$"
   ]
  },
  {
   "cell_type": "markdown",
   "metadata": {},
   "source": [
    "**Обоснование:**  \n",
    "Итак, чтобы ответить на это вопрос нужно сравнить рез-т предсказания \"по дефолту\" и предсказание при условии умножения на обратимую матрицу. Т.е. нужно сравнить значение $a = Xw$ и $a1=XRw1$, где $R(reversible)$-обратимая матрица  \n",
    "\n",
    "Подставим в вектор весов Линейной Регрессии $w = (X^T X)^{-1} X^T y$ вместо $Х$ новое значение $XR$, получим:  \n",
    "$w1 = ((XR)^T(XR))^{-1}(XR)^Ty$  \n",
    "или  \n",
    "$w1 = (X^TR^TXR)^{-1}(XR)^Ty$  \n",
    "$w1 = (X^TXR^TR)^{-1}(XR)^Ty$ $-->$ $((X^TXR^TR)^{-1}$ представим как $(X^TX)^{-1}(R^T)^{-1}R^{-1}$, тогда  \n",
    "\n",
    "$w1 = (X^TX)^{-1}(R^T)^{-1}R^{-1}(XR)^T y = (X^TX)^{-1}(R^T)^{-1}R^{-1}X^TR^T y$,  \n",
    "$R$ является обратимой матрицей сл-но  $-->$ $(R^T)^{-1}(R^T) = E$  \n",
    "\n",
    "тогда $w1 = (X^TX)^{-1}(R^T)^{-1}R^{-1}X^TR^T y = (X^TX)^{-1}ER^{-1}X^T y$ или $w1=(X^TX)^{-1}X^T yR^{-1}$  \n",
    "\n",
    "$(X^TX)^{-1}X^T y$ это ничто иное как вектор весов линейной регрессии - $w$, т.е получаем $w1=wR^{-1}$  \n",
    "\n",
    "\n",
    "Предсказание $a1$ выражается формулой $a1=XRw1$, где $w1=wR^{-1}$, таким образом, подставив $w1$,получаем:  \n",
    "\n",
    " <p style=\"text-align: center\"> $a1=XRw1=XRR^{-1}w=XEw=Xw$, а это формула первичного предсказания, т.е.</p>  \n",
    " <p style=\"text-align: center\"> $a1=Xw=a$</p>  \n",
    "  \n",
    "Таким образом мы видим, что предсказания \"по умолчанию\" и предсказания с применением обратимой матрицы равны друг другу, а это значит, что при умножении Признаков на обратимую матрицу, качество линейной регрессии не изменится."
   ]
  },
  {
   "cell_type": "markdown",
   "metadata": {},
   "source": [
    "## Алгоритм преобразования"
   ]
  },
  {
   "cell_type": "markdown",
   "metadata": {},
   "source": [
    "**Алгоритм**\n",
    "\n",
    "Учитывая выше изложенные свойства - отсутствия влияния обратимой матрицы на качество линейной регрессии (при умножении на Признаки), мы можем применить данную особенность в дальнейшем исследовании, а именно использовать в сокрытии-шифровании персональных данных.  \n",
    "Поясню:\n",
    "Представив Dataframe содержащий перс.данный пользователей в виде массива - матрицы, где столбцы являются Признаками и умножив эту матрицу на обратную матрицу (созданную случайным образом), мы превратим содержание Dataframe в бесполезный на первый вгляд набор данных, тем самым надежно скрыв персональную информацию пользователей.  \n",
    "Итак, алгоритм следующий:  \n",
    "1. Создаем случайную матрицу (ключ шифр)\n",
    "2. Проверяем ее на обратимость (это важно, иначе если матрица не обратимая, то для нее нельзя найти обратную матрицу)  \n",
    "(используем функцию numpy.linalg.inv() она также проверяет матрицу на обратимость, если матрица необратима, будет обнаружена ошибка)\n",
    "3. Перемножаем Признаки на обратимую матрицу - Шифруем данные\n",
    "4. Любуемся результатом\n",
    "5. Расчитываем и сравниваем качество линейной регрессии до и после преобразования (на основе метрики R2)\n",
    "6. Делаем выводы"
   ]
  },
  {
   "cell_type": "markdown",
   "metadata": {},
   "source": [
    "## Проверка алгоритма"
   ]
  },
  {
   "cell_type": "markdown",
   "metadata": {},
   "source": [
    "Могу предположить, что целевым признаком является столбец о наличие или отсутвие \"страховой выплаты\", тогда:"
   ]
  },
  {
   "cell_type": "code",
   "execution_count": 7,
   "metadata": {},
   "outputs": [],
   "source": [
    "features = df.drop('Страховые выплаты', axis=1)\n",
    "target = df['Страховые выплаты']"
   ]
  },
  {
   "cell_type": "code",
   "execution_count": 8,
   "metadata": {},
   "outputs": [],
   "source": [
    "matrix = np.random.normal(size = (4,4)) # матрица должна быть квадратной, \"ширина\" определяется кол-вом Признаков."
   ]
  },
  {
   "cell_type": "code",
   "execution_count": 9,
   "metadata": {},
   "outputs": [],
   "source": [
    "matrix_inv = np.linalg.inv(matrix)"
   ]
  },
  {
   "cell_type": "markdown",
   "metadata": {},
   "source": [
    "Проверяем как работает процесс шифрования/дешифрования."
   ]
  },
  {
   "cell_type": "code",
   "execution_count": 10,
   "metadata": {},
   "outputs": [
    {
     "data": {
      "text/plain": [
       "array([[    1,    41, 49600,     1],\n",
       "       [    0,    46, 38000,     1],\n",
       "       [    0,    29, 21000,     0],\n",
       "       ...,\n",
       "       [    0,    20, 33900,     2],\n",
       "       [    1,    22, 32700,     3],\n",
       "       [    1,    28, 40600,     1]])"
      ]
     },
     "execution_count": 10,
     "metadata": {},
     "output_type": "execute_result"
    }
   ],
   "source": [
    "# Исходные данные -  подлежащие шифрованию\n",
    "features.values"
   ]
  },
  {
   "cell_type": "code",
   "execution_count": 11,
   "metadata": {
    "scrolled": true
   },
   "outputs": [
    {
     "data": {
      "text/plain": [
       "array([[-44359.86255329,   9597.09469732, 243684.69883409,\n",
       "        114480.36264421],\n",
       "       [-33985.50716502,   7354.01933569, 186713.37633047,\n",
       "         87726.18541755],\n",
       "       [-18781.22264814,   4064.60931961, 103189.00046146,\n",
       "         48485.21903089],\n",
       "       ...,\n",
       "       [-30318.85691846,   6557.69168003, 166537.64112228,\n",
       "         78231.82086209],\n",
       "       [-29246.67167645,   6326.28756662, 160647.5839908 ,\n",
       "         75467.3459652 ],\n",
       "       [-36310.75568415,   7855.04618347, 199460.02798238,\n",
       "         93700.19034574]])"
      ]
     },
     "execution_count": 11,
     "metadata": {},
     "output_type": "execute_result"
    }
   ],
   "source": [
    "# Шифрованные данные (ключем шифрования выступает matrix_inv)\n",
    "new_features = features.values @ matrix_inv\n",
    "new_features"
   ]
  },
  {
   "cell_type": "markdown",
   "metadata": {},
   "source": [
    "Отлично! Просто набор чисел... "
   ]
  },
  {
   "cell_type": "code",
   "execution_count": 12,
   "metadata": {},
   "outputs": [
    {
     "data": {
      "text/plain": [
       "array([[    0,    40, 49600,     1],\n",
       "       [    0,    45, 38000,     1],\n",
       "       [    0,    28, 21000,     0],\n",
       "       ...,\n",
       "       [    0,    19, 33900,     2],\n",
       "       [    1,    21, 32700,     3],\n",
       "       [    1,    27, 40600,     1]])"
      ]
     },
     "execution_count": 12,
     "metadata": {},
     "output_type": "execute_result"
    }
   ],
   "source": [
    "# Проверим дешифрование (при необходимости)\n",
    "new_features = new_features @ matrix\n",
    "new_features.astype('int')"
   ]
  },
  {
   "cell_type": "markdown",
   "metadata": {},
   "source": [
    "Прекрастно, при желании, все можно будет восстановить.  \n",
    "\n",
    "Теперь перейдем к сравнению качества линейной регрессии до и после преобразования."
   ]
  },
  {
   "cell_type": "code",
   "execution_count": 13,
   "metadata": {},
   "outputs": [
    {
     "name": "stdout",
     "output_type": "stream",
     "text": [
      "Метрика R2 на исходных признаках: 0.4302010046633359\n",
      "Метрика R2 на зашифрованных признаках: 0.4302010046633302\n",
      "Дельта между исходной и зашифрованной метрикой равна 0\n"
     ]
    }
   ],
   "source": [
    "model = LinearRegression()\n",
    "\n",
    "model.fit(features, target)\n",
    "predictions = model.predict(features)\n",
    "\n",
    "model.fit(new_features, target)\n",
    "predictions_new = model.predict(new_features)\n",
    "\n",
    "r2 = r2_score(target, predictions)\n",
    "r2_new = r2_score(target, predictions_new)\n",
    "\n",
    "print('Метрика R2 на исходных признаках:', r2)\n",
    "print('Метрика R2 на зашифрованных признаках:', r2_new)\n",
    "print('Дельта между исходной и зашифрованной метрикой равна', (r2_new-r2).astype('int'))"
   ]
  },
  {
   "cell_type": "markdown",
   "metadata": {},
   "source": [
    "Кстати обобщающая способность модели (LinearRegression()) так себе, метрика $R^2$  менее 0.5 (чем ближе к 1, тем лучше)."
   ]
  },
  {
   "cell_type": "markdown",
   "metadata": {},
   "source": [
    "**Общий вывод**  \n",
    "Качество прогнозироваия линейной регрессии до и после преобразовани признаков остается неизменным, это позволяет использовать данный метод шифрования в практических задачах. Я конечно не искушен в методах шифрования, но на мой взгляд, этот метод из категории \"дешево и сердито\"."
   ]
  }
 ],
 "metadata": {
  "ExecuteTimeLog": [
   {
    "duration": 47,
    "start_time": "2022-04-06T12:14:38.059Z"
   },
   {
    "duration": 450,
    "start_time": "2022-04-06T12:14:40.730Z"
   },
   {
    "duration": 17,
    "start_time": "2022-04-06T12:14:41.191Z"
   },
   {
    "duration": 17,
    "start_time": "2022-04-06T12:14:42.105Z"
   },
   {
    "duration": 41,
    "start_time": "2022-04-06T12:22:35.941Z"
   },
   {
    "duration": 3395,
    "start_time": "2022-04-06T12:23:02.093Z"
   },
   {
    "duration": 1314,
    "start_time": "2022-04-06T12:23:07.253Z"
   },
   {
    "duration": 628,
    "start_time": "2022-04-06T12:23:09.500Z"
   },
   {
    "duration": 5,
    "start_time": "2022-04-06T12:25:10.315Z"
   },
   {
    "duration": 10,
    "start_time": "2022-04-06T12:25:14.814Z"
   },
   {
    "duration": 20,
    "start_time": "2022-04-06T12:25:35.622Z"
   },
   {
    "duration": 6,
    "start_time": "2022-04-06T12:26:01.002Z"
   },
   {
    "duration": 17,
    "start_time": "2022-04-06T12:26:06.702Z"
   },
   {
    "duration": 13,
    "start_time": "2022-04-06T12:26:19.061Z"
   },
   {
    "duration": 20,
    "start_time": "2022-04-06T12:35:03.409Z"
   },
   {
    "duration": 17,
    "start_time": "2022-04-06T12:35:11.273Z"
   },
   {
    "duration": 302,
    "start_time": "2022-04-06T12:35:41.332Z"
   },
   {
    "duration": 229,
    "start_time": "2022-04-06T12:35:46.386Z"
   },
   {
    "duration": 17,
    "start_time": "2022-04-06T12:35:49.697Z"
   },
   {
    "duration": 6,
    "start_time": "2022-04-06T12:36:12.909Z"
   },
   {
    "duration": 15,
    "start_time": "2022-04-06T12:36:19.604Z"
   },
   {
    "duration": 8,
    "start_time": "2022-04-06T12:36:38.811Z"
   },
   {
    "duration": 13,
    "start_time": "2022-04-06T12:36:45.807Z"
   },
   {
    "duration": 12,
    "start_time": "2022-04-06T13:49:52.557Z"
   },
   {
    "duration": 7,
    "start_time": "2022-04-06T13:50:20.660Z"
   },
   {
    "duration": 3,
    "start_time": "2022-04-06T13:50:21.577Z"
   },
   {
    "duration": 2,
    "start_time": "2022-04-06T13:50:24.744Z"
   },
   {
    "duration": 45,
    "start_time": "2022-04-06T13:50:31.797Z"
   },
   {
    "duration": 3,
    "start_time": "2022-04-06T13:50:32.849Z"
   },
   {
    "duration": 380,
    "start_time": "2022-04-06T13:50:38.552Z"
   },
   {
    "duration": 19,
    "start_time": "2022-04-06T13:50:38.934Z"
   },
   {
    "duration": 20,
    "start_time": "2022-04-06T13:50:38.954Z"
   },
   {
    "duration": 15,
    "start_time": "2022-04-06T13:50:38.976Z"
   },
   {
    "duration": 13,
    "start_time": "2022-04-06T13:50:38.992Z"
   },
   {
    "duration": 14,
    "start_time": "2022-04-06T13:50:39.007Z"
   },
   {
    "duration": 64,
    "start_time": "2022-04-06T13:50:39.023Z"
   },
   {
    "duration": 10,
    "start_time": "2022-04-06T13:53:12.198Z"
   },
   {
    "duration": 7,
    "start_time": "2022-04-06T13:53:24.416Z"
   },
   {
    "duration": 9,
    "start_time": "2022-04-06T13:53:28.837Z"
   },
   {
    "duration": 429,
    "start_time": "2022-04-06T13:53:35.072Z"
   },
   {
    "duration": 19,
    "start_time": "2022-04-06T13:53:35.503Z"
   },
   {
    "duration": 20,
    "start_time": "2022-04-06T13:53:35.524Z"
   },
   {
    "duration": 15,
    "start_time": "2022-04-06T13:53:35.547Z"
   },
   {
    "duration": 11,
    "start_time": "2022-04-06T13:53:35.564Z"
   },
   {
    "duration": 30,
    "start_time": "2022-04-06T13:53:35.577Z"
   },
   {
    "duration": 14,
    "start_time": "2022-04-06T13:53:35.608Z"
   },
   {
    "duration": 4,
    "start_time": "2022-04-06T13:54:18.204Z"
   },
   {
    "duration": 5,
    "start_time": "2022-04-06T13:54:23.827Z"
   },
   {
    "duration": 12,
    "start_time": "2022-04-06T13:54:27.136Z"
   },
   {
    "duration": 16,
    "start_time": "2022-04-06T13:56:56.082Z"
   },
   {
    "duration": 17,
    "start_time": "2022-04-06T13:57:04.756Z"
   },
   {
    "duration": 3,
    "start_time": "2022-04-06T14:05:11.924Z"
   },
   {
    "duration": 13,
    "start_time": "2022-04-06T14:05:16.786Z"
   },
   {
    "duration": 200,
    "start_time": "2022-04-06T14:07:12.088Z"
   },
   {
    "duration": 66,
    "start_time": "2022-04-06T14:07:17.589Z"
   },
   {
    "duration": 13,
    "start_time": "2022-04-06T14:08:01.601Z"
   },
   {
    "duration": 9,
    "start_time": "2022-04-06T14:08:12.896Z"
   },
   {
    "duration": 397,
    "start_time": "2022-04-06T14:08:17.419Z"
   },
   {
    "duration": 19,
    "start_time": "2022-04-06T14:08:17.818Z"
   },
   {
    "duration": 19,
    "start_time": "2022-04-06T14:08:17.839Z"
   },
   {
    "duration": 15,
    "start_time": "2022-04-06T14:08:17.861Z"
   },
   {
    "duration": 25,
    "start_time": "2022-04-06T14:08:17.877Z"
   },
   {
    "duration": 68,
    "start_time": "2022-04-06T14:08:17.903Z"
   },
   {
    "duration": 0,
    "start_time": "2022-04-06T14:08:17.973Z"
   },
   {
    "duration": 0,
    "start_time": "2022-04-06T14:08:17.974Z"
   },
   {
    "duration": 13,
    "start_time": "2022-04-06T14:08:34.950Z"
   },
   {
    "duration": 13,
    "start_time": "2022-04-06T14:08:50.043Z"
   },
   {
    "duration": 5,
    "start_time": "2022-04-06T14:15:06.564Z"
   },
   {
    "duration": 6,
    "start_time": "2022-04-06T14:15:17.642Z"
   },
   {
    "duration": 9,
    "start_time": "2022-04-06T14:16:38.350Z"
   },
   {
    "duration": 7,
    "start_time": "2022-04-06T14:16:54.416Z"
   },
   {
    "duration": 4,
    "start_time": "2022-04-06T14:17:02.111Z"
   },
   {
    "duration": 4,
    "start_time": "2022-04-06T14:17:30.271Z"
   },
   {
    "duration": 46,
    "start_time": "2022-04-06T18:51:35.787Z"
   },
   {
    "duration": 6,
    "start_time": "2022-04-06T18:51:36.297Z"
   },
   {
    "duration": 421,
    "start_time": "2022-04-06T18:51:41.475Z"
   },
   {
    "duration": 16,
    "start_time": "2022-04-06T18:51:41.899Z"
   },
   {
    "duration": 17,
    "start_time": "2022-04-06T18:51:41.917Z"
   },
   {
    "duration": 22,
    "start_time": "2022-04-06T18:51:41.936Z"
   },
   {
    "duration": 5,
    "start_time": "2022-04-06T18:51:41.959Z"
   },
   {
    "duration": 12,
    "start_time": "2022-04-06T18:51:41.965Z"
   },
   {
    "duration": 35,
    "start_time": "2022-04-06T18:51:41.979Z"
   },
   {
    "duration": 3,
    "start_time": "2022-04-06T18:52:27.894Z"
   },
   {
    "duration": 5,
    "start_time": "2022-04-06T18:52:29.272Z"
   },
   {
    "duration": 6,
    "start_time": "2022-04-06T18:52:49.462Z"
   },
   {
    "duration": 6,
    "start_time": "2022-04-06T18:53:02.534Z"
   },
   {
    "duration": 4,
    "start_time": "2022-04-06T18:53:35.627Z"
   },
   {
    "duration": 5,
    "start_time": "2022-04-06T18:53:44.218Z"
   },
   {
    "duration": 5,
    "start_time": "2022-04-06T18:54:11.930Z"
   },
   {
    "duration": 418,
    "start_time": "2022-04-06T18:54:18.398Z"
   },
   {
    "duration": 17,
    "start_time": "2022-04-06T18:54:18.818Z"
   },
   {
    "duration": 16,
    "start_time": "2022-04-06T18:54:18.836Z"
   },
   {
    "duration": 18,
    "start_time": "2022-04-06T18:54:18.854Z"
   },
   {
    "duration": 4,
    "start_time": "2022-04-06T18:54:18.873Z"
   },
   {
    "duration": 5,
    "start_time": "2022-04-06T18:54:18.878Z"
   },
   {
    "duration": 25,
    "start_time": "2022-04-06T18:54:18.885Z"
   },
   {
    "duration": 3,
    "start_time": "2022-04-06T18:58:24.530Z"
   },
   {
    "duration": 6,
    "start_time": "2022-04-06T18:58:25.418Z"
   },
   {
    "duration": 3,
    "start_time": "2022-04-06T18:58:31.267Z"
   },
   {
    "duration": 5,
    "start_time": "2022-04-06T18:58:32.005Z"
   },
   {
    "duration": 4,
    "start_time": "2022-04-06T18:58:39.210Z"
   },
   {
    "duration": 5,
    "start_time": "2022-04-06T18:58:52.779Z"
   },
   {
    "duration": 202,
    "start_time": "2022-04-06T18:59:13.108Z"
   },
   {
    "duration": 7,
    "start_time": "2022-04-06T18:59:19.308Z"
   },
   {
    "duration": 7,
    "start_time": "2022-04-06T18:59:36.791Z"
   },
   {
    "duration": 6,
    "start_time": "2022-04-06T18:59:44.381Z"
   },
   {
    "duration": 6,
    "start_time": "2022-04-06T18:59:53.555Z"
   },
   {
    "duration": 7,
    "start_time": "2022-04-06T19:00:09.764Z"
   },
   {
    "duration": 5,
    "start_time": "2022-04-06T19:00:13.684Z"
   },
   {
    "duration": 4,
    "start_time": "2022-04-06T19:00:18.794Z"
   },
   {
    "duration": 5,
    "start_time": "2022-04-06T19:00:19.644Z"
   },
   {
    "duration": 7,
    "start_time": "2022-04-06T19:00:27.923Z"
   },
   {
    "duration": 3,
    "start_time": "2022-04-06T19:00:34.244Z"
   },
   {
    "duration": 6,
    "start_time": "2022-04-06T19:00:38.668Z"
   },
   {
    "duration": 3,
    "start_time": "2022-04-06T19:00:43.314Z"
   },
   {
    "duration": 6,
    "start_time": "2022-04-06T19:00:44.370Z"
   },
   {
    "duration": 3,
    "start_time": "2022-04-06T19:00:48.515Z"
   },
   {
    "duration": 5,
    "start_time": "2022-04-06T19:00:49.067Z"
   },
   {
    "duration": 5,
    "start_time": "2022-04-06T19:00:54.084Z"
   },
   {
    "duration": 3,
    "start_time": "2022-04-06T19:03:59.164Z"
   },
   {
    "duration": 5,
    "start_time": "2022-04-06T19:03:59.749Z"
   },
   {
    "duration": 10,
    "start_time": "2022-04-06T19:25:37.619Z"
   },
   {
    "duration": 13,
    "start_time": "2022-04-06T19:26:07.772Z"
   },
   {
    "duration": 441,
    "start_time": "2022-04-06T19:26:12.978Z"
   },
   {
    "duration": 17,
    "start_time": "2022-04-06T19:26:13.421Z"
   },
   {
    "duration": 16,
    "start_time": "2022-04-06T19:26:13.440Z"
   },
   {
    "duration": 19,
    "start_time": "2022-04-06T19:26:13.458Z"
   },
   {
    "duration": 3,
    "start_time": "2022-04-06T19:26:13.479Z"
   },
   {
    "duration": 6,
    "start_time": "2022-04-06T19:26:13.508Z"
   },
   {
    "duration": 14,
    "start_time": "2022-04-06T19:26:13.516Z"
   },
   {
    "duration": 6,
    "start_time": "2022-04-06T19:27:15.818Z"
   },
   {
    "duration": 67,
    "start_time": "2022-04-06T19:29:08.494Z"
   },
   {
    "duration": 5,
    "start_time": "2022-04-06T19:29:16.317Z"
   },
   {
    "duration": 5,
    "start_time": "2022-04-06T19:30:03.707Z"
   },
   {
    "duration": 5,
    "start_time": "2022-04-06T19:30:27.298Z"
   },
   {
    "duration": 61,
    "start_time": "2022-04-06T19:37:52.807Z"
   },
   {
    "duration": 4,
    "start_time": "2022-04-06T19:38:05.669Z"
   },
   {
    "duration": 6,
    "start_time": "2022-04-06T19:40:20.150Z"
   },
   {
    "duration": 6,
    "start_time": "2022-04-06T19:40:30.574Z"
   },
   {
    "duration": 6,
    "start_time": "2022-04-06T19:40:36.898Z"
   },
   {
    "duration": 5,
    "start_time": "2022-04-06T19:40:49.798Z"
   },
   {
    "duration": 6,
    "start_time": "2022-04-06T19:41:09.590Z"
   },
   {
    "duration": 4,
    "start_time": "2022-04-06T19:41:16.581Z"
   },
   {
    "duration": 6,
    "start_time": "2022-04-06T19:41:17.151Z"
   },
   {
    "duration": 6,
    "start_time": "2022-04-06T19:41:17.790Z"
   },
   {
    "duration": 7,
    "start_time": "2022-04-06T19:41:18.605Z"
   },
   {
    "duration": 6,
    "start_time": "2022-04-06T19:42:54.252Z"
   },
   {
    "duration": 5,
    "start_time": "2022-04-06T19:45:00.048Z"
   },
   {
    "duration": 3,
    "start_time": "2022-04-06T19:45:03.544Z"
   },
   {
    "duration": 4,
    "start_time": "2022-04-06T19:45:04.001Z"
   },
   {
    "duration": 4,
    "start_time": "2022-04-06T19:45:05.400Z"
   },
   {
    "duration": 6,
    "start_time": "2022-04-06T19:45:06.034Z"
   },
   {
    "duration": 5,
    "start_time": "2022-04-06T19:45:07.576Z"
   },
   {
    "duration": 8,
    "start_time": "2022-04-06T19:53:15.009Z"
   },
   {
    "duration": 659,
    "start_time": "2022-04-06T19:53:40.045Z"
   },
   {
    "duration": 43,
    "start_time": "2022-04-06T19:53:50.054Z"
   },
   {
    "duration": 9,
    "start_time": "2022-04-06T19:54:32.628Z"
   },
   {
    "duration": 7,
    "start_time": "2022-04-06T19:54:40.547Z"
   },
   {
    "duration": 3,
    "start_time": "2022-04-06T19:54:50.935Z"
   },
   {
    "duration": 5,
    "start_time": "2022-04-06T19:54:54.510Z"
   },
   {
    "duration": 66,
    "start_time": "2022-04-06T19:55:01.643Z"
   },
   {
    "duration": 3,
    "start_time": "2022-04-06T20:06:01.283Z"
   },
   {
    "duration": 3,
    "start_time": "2022-04-06T20:06:01.935Z"
   },
   {
    "duration": 4,
    "start_time": "2022-04-06T20:06:04.181Z"
   },
   {
    "duration": 9,
    "start_time": "2022-04-06T20:06:05.260Z"
   },
   {
    "duration": 3,
    "start_time": "2022-04-06T20:06:15.815Z"
   },
   {
    "duration": 78,
    "start_time": "2022-04-06T20:06:16.312Z"
   },
   {
    "duration": 3,
    "start_time": "2022-04-06T20:06:21.587Z"
   },
   {
    "duration": 3,
    "start_time": "2022-04-06T20:06:22.530Z"
   },
   {
    "duration": 9,
    "start_time": "2022-04-06T20:09:29.559Z"
   },
   {
    "duration": 399,
    "start_time": "2022-04-06T20:09:45.595Z"
   },
   {
    "duration": 132,
    "start_time": "2022-04-06T20:09:46.584Z"
   },
   {
    "duration": 52,
    "start_time": "2022-04-06T20:09:59.450Z"
   },
   {
    "duration": 138,
    "start_time": "2022-04-06T20:10:00.137Z"
   },
   {
    "duration": 102,
    "start_time": "2022-04-06T20:10:44.695Z"
   },
   {
    "duration": 93,
    "start_time": "2022-04-06T20:11:23.690Z"
   },
   {
    "duration": 103,
    "start_time": "2022-04-06T20:11:51.997Z"
   },
   {
    "duration": 3,
    "start_time": "2022-04-06T20:17:25.783Z"
   },
   {
    "duration": 69,
    "start_time": "2022-04-06T20:17:27.918Z"
   },
   {
    "duration": 239,
    "start_time": "2022-04-06T20:17:36.478Z"
   },
   {
    "duration": 6,
    "start_time": "2022-04-06T20:18:10.246Z"
   },
   {
    "duration": 5,
    "start_time": "2022-04-06T20:18:19.030Z"
   },
   {
    "duration": 114,
    "start_time": "2022-04-06T20:18:39.101Z"
   },
   {
    "duration": 6,
    "start_time": "2022-04-06T20:18:51.177Z"
   },
   {
    "duration": 14,
    "start_time": "2022-04-06T20:19:07.672Z"
   },
   {
    "duration": 14,
    "start_time": "2022-04-06T20:21:38.335Z"
   },
   {
    "duration": 1561,
    "start_time": "2022-04-06T20:27:41.151Z"
   },
   {
    "duration": 21,
    "start_time": "2022-04-06T20:27:42.716Z"
   },
   {
    "duration": 26,
    "start_time": "2022-04-06T20:27:42.740Z"
   },
   {
    "duration": 44,
    "start_time": "2022-04-06T20:27:42.769Z"
   },
   {
    "duration": 719,
    "start_time": "2022-04-06T20:27:42.816Z"
   },
   {
    "duration": 197,
    "start_time": "2022-04-06T20:27:43.538Z"
   },
   {
    "duration": 203,
    "start_time": "2022-04-06T20:27:43.738Z"
   },
   {
    "duration": 6,
    "start_time": "2022-04-06T20:27:43.944Z"
   },
   {
    "duration": 34,
    "start_time": "2022-04-06T20:27:43.952Z"
   },
   {
    "duration": 107,
    "start_time": "2022-04-06T20:27:43.991Z"
   },
   {
    "duration": 82,
    "start_time": "2022-04-06T20:27:44.101Z"
   },
   {
    "duration": 7,
    "start_time": "2022-04-06T20:27:44.186Z"
   },
   {
    "duration": 9,
    "start_time": "2022-04-06T20:27:44.197Z"
   },
   {
    "duration": 10,
    "start_time": "2022-04-06T20:27:44.284Z"
   },
   {
    "duration": 90,
    "start_time": "2022-04-06T20:27:44.297Z"
   },
   {
    "duration": 4,
    "start_time": "2022-04-06T20:27:44.389Z"
   },
   {
    "duration": 15,
    "start_time": "2022-04-06T20:27:44.395Z"
   },
   {
    "duration": 177,
    "start_time": "2022-04-06T20:27:44.412Z"
   },
   {
    "duration": 0,
    "start_time": "2022-04-06T20:27:44.591Z"
   },
   {
    "duration": 152,
    "start_time": "2022-04-06T20:27:54.135Z"
   },
   {
    "duration": 114,
    "start_time": "2022-04-06T20:29:06.318Z"
   },
   {
    "duration": 13,
    "start_time": "2022-04-06T20:29:17.061Z"
   },
   {
    "duration": 181,
    "start_time": "2022-04-06T20:29:21.068Z"
   },
   {
    "duration": 172,
    "start_time": "2022-04-06T20:29:52.005Z"
   },
   {
    "duration": 113,
    "start_time": "2022-04-06T20:30:17.110Z"
   },
   {
    "duration": 6,
    "start_time": "2022-04-06T20:30:47.487Z"
   },
   {
    "duration": 45,
    "start_time": "2022-04-06T20:30:51.038Z"
   },
   {
    "duration": 21,
    "start_time": "2022-04-06T20:31:03.510Z"
   },
   {
    "duration": 39,
    "start_time": "2022-04-06T20:32:06.547Z"
   },
   {
    "duration": 3,
    "start_time": "2022-04-06T20:32:27.240Z"
   },
   {
    "duration": 19,
    "start_time": "2022-04-06T20:32:32.070Z"
   },
   {
    "duration": 4,
    "start_time": "2022-04-06T20:33:36.841Z"
   },
   {
    "duration": 19,
    "start_time": "2022-04-06T20:33:37.321Z"
   },
   {
    "duration": 4,
    "start_time": "2022-04-06T20:34:31.216Z"
   },
   {
    "duration": 109,
    "start_time": "2022-04-06T20:50:48.927Z"
   },
   {
    "duration": 112,
    "start_time": "2022-04-06T20:51:21.968Z"
   },
   {
    "duration": 27,
    "start_time": "2022-04-06T20:51:43.866Z"
   },
   {
    "duration": 84,
    "start_time": "2022-04-06T20:52:03.002Z"
   },
   {
    "duration": 165,
    "start_time": "2022-04-06T20:52:22.982Z"
   },
   {
    "duration": 33,
    "start_time": "2022-04-06T20:52:27.860Z"
   },
   {
    "duration": 2017,
    "start_time": "2022-04-06T20:53:36.456Z"
   },
   {
    "duration": 15,
    "start_time": "2022-04-06T20:53:38.476Z"
   },
   {
    "duration": 23,
    "start_time": "2022-04-06T20:53:38.493Z"
   },
   {
    "duration": 33,
    "start_time": "2022-04-06T20:53:38.519Z"
   },
   {
    "duration": 180,
    "start_time": "2022-04-06T20:53:38.554Z"
   },
   {
    "duration": 200,
    "start_time": "2022-04-06T20:53:38.737Z"
   },
   {
    "duration": 4,
    "start_time": "2022-04-06T20:53:38.940Z"
   },
   {
    "duration": 12,
    "start_time": "2022-04-06T20:53:38.946Z"
   },
   {
    "duration": 6,
    "start_time": "2022-04-06T20:53:38.985Z"
   },
   {
    "duration": 9,
    "start_time": "2022-04-06T20:53:38.994Z"
   },
   {
    "duration": 80,
    "start_time": "2022-04-06T20:53:39.005Z"
   },
   {
    "duration": 12,
    "start_time": "2022-04-06T20:53:39.087Z"
   },
   {
    "duration": 86,
    "start_time": "2022-04-06T20:53:39.101Z"
   },
   {
    "duration": 6,
    "start_time": "2022-04-06T20:53:39.189Z"
   },
   {
    "duration": 3,
    "start_time": "2022-04-06T20:53:39.198Z"
   },
   {
    "duration": 186,
    "start_time": "2022-04-06T20:53:39.204Z"
   },
   {
    "duration": 16,
    "start_time": "2022-04-06T20:58:35.817Z"
   },
   {
    "duration": 17,
    "start_time": "2022-04-06T20:58:47.527Z"
   },
   {
    "duration": 1530,
    "start_time": "2022-04-06T20:59:51.273Z"
   },
   {
    "duration": 16,
    "start_time": "2022-04-06T20:59:52.805Z"
   },
   {
    "duration": 21,
    "start_time": "2022-04-06T20:59:52.823Z"
   },
   {
    "duration": 48,
    "start_time": "2022-04-06T20:59:52.847Z"
   },
   {
    "duration": 5,
    "start_time": "2022-04-06T20:59:52.897Z"
   },
   {
    "duration": 10,
    "start_time": "2022-04-06T20:59:52.904Z"
   },
   {
    "duration": 67,
    "start_time": "2022-04-06T20:59:52.917Z"
   },
   {
    "duration": 6,
    "start_time": "2022-04-06T20:59:52.988Z"
   },
   {
    "duration": 6,
    "start_time": "2022-04-06T20:59:52.996Z"
   },
   {
    "duration": 8,
    "start_time": "2022-04-06T20:59:53.084Z"
   },
   {
    "duration": 90,
    "start_time": "2022-04-06T20:59:53.095Z"
   },
   {
    "duration": 8,
    "start_time": "2022-04-06T20:59:53.188Z"
   },
   {
    "duration": 91,
    "start_time": "2022-04-06T20:59:53.198Z"
   },
   {
    "duration": 5,
    "start_time": "2022-04-06T21:04:11.781Z"
   },
   {
    "duration": 8,
    "start_time": "2022-04-06T21:04:15.454Z"
   },
   {
    "duration": 1599,
    "start_time": "2022-04-06T21:07:01.039Z"
   },
   {
    "duration": 22,
    "start_time": "2022-04-06T21:07:02.640Z"
   },
   {
    "duration": 25,
    "start_time": "2022-04-06T21:07:02.664Z"
   },
   {
    "duration": 33,
    "start_time": "2022-04-06T21:07:02.692Z"
   },
   {
    "duration": 4,
    "start_time": "2022-04-06T21:07:02.727Z"
   },
   {
    "duration": 25,
    "start_time": "2022-04-06T21:07:02.733Z"
   },
   {
    "duration": 5,
    "start_time": "2022-04-06T21:07:02.785Z"
   },
   {
    "duration": 14,
    "start_time": "2022-04-06T21:07:02.793Z"
   },
   {
    "duration": 80,
    "start_time": "2022-04-06T21:07:02.809Z"
   },
   {
    "duration": 94,
    "start_time": "2022-04-06T21:07:02.893Z"
   },
   {
    "duration": 95,
    "start_time": "2022-04-06T21:07:02.990Z"
   },
   {
    "duration": 29,
    "start_time": "2022-04-06T21:07:03.087Z"
   },
   {
    "duration": 66,
    "start_time": "2022-04-06T21:07:03.118Z"
   },
   {
    "duration": 5,
    "start_time": "2022-04-06T21:08:08.621Z"
   },
   {
    "duration": 10,
    "start_time": "2022-04-06T21:08:09.335Z"
   },
   {
    "duration": 5,
    "start_time": "2022-04-06T21:08:15.941Z"
   },
   {
    "duration": 7,
    "start_time": "2022-04-06T21:08:17.414Z"
   },
   {
    "duration": 19,
    "start_time": "2022-04-06T21:14:27.246Z"
   },
   {
    "duration": 20,
    "start_time": "2022-04-06T21:14:46.674Z"
   },
   {
    "duration": 1649,
    "start_time": "2022-04-06T21:16:18.583Z"
   },
   {
    "duration": 21,
    "start_time": "2022-04-06T21:16:20.235Z"
   },
   {
    "duration": 31,
    "start_time": "2022-04-06T21:16:20.258Z"
   },
   {
    "duration": 28,
    "start_time": "2022-04-06T21:16:20.292Z"
   },
   {
    "duration": 4,
    "start_time": "2022-04-06T21:16:20.324Z"
   },
   {
    "duration": 56,
    "start_time": "2022-04-06T21:16:20.331Z"
   },
   {
    "duration": 9,
    "start_time": "2022-04-06T21:16:20.390Z"
   },
   {
    "duration": 82,
    "start_time": "2022-04-06T21:16:20.402Z"
   },
   {
    "duration": 14,
    "start_time": "2022-04-06T21:16:20.486Z"
   },
   {
    "duration": 12,
    "start_time": "2022-04-06T21:16:20.503Z"
   },
   {
    "duration": 10,
    "start_time": "2022-04-06T21:16:20.586Z"
   },
   {
    "duration": 89,
    "start_time": "2022-04-06T21:16:20.599Z"
   },
   {
    "duration": 95,
    "start_time": "2022-04-06T21:16:20.690Z"
   },
   {
    "duration": 1534,
    "start_time": "2022-04-06T21:28:44.666Z"
   },
   {
    "duration": 14,
    "start_time": "2022-04-06T21:28:46.203Z"
   },
   {
    "duration": 22,
    "start_time": "2022-04-06T21:28:46.220Z"
   },
   {
    "duration": 52,
    "start_time": "2022-04-06T21:28:46.245Z"
   },
   {
    "duration": 4,
    "start_time": "2022-04-06T21:28:46.299Z"
   },
   {
    "duration": 10,
    "start_time": "2022-04-06T21:28:46.305Z"
   },
   {
    "duration": 68,
    "start_time": "2022-04-06T21:28:46.318Z"
   },
   {
    "duration": 8,
    "start_time": "2022-04-06T21:28:46.388Z"
   },
   {
    "duration": 12,
    "start_time": "2022-04-06T21:28:46.399Z"
   },
   {
    "duration": 7,
    "start_time": "2022-04-06T21:28:46.485Z"
   },
   {
    "duration": 89,
    "start_time": "2022-04-06T21:28:46.495Z"
   },
   {
    "duration": 6,
    "start_time": "2022-04-06T21:28:46.586Z"
   },
   {
    "duration": 93,
    "start_time": "2022-04-06T21:28:46.594Z"
   },
   {
    "duration": 222,
    "start_time": "2022-04-07T07:10:15.797Z"
   },
   {
    "duration": 1764,
    "start_time": "2022-04-07T07:48:27.094Z"
   },
   {
    "duration": 796,
    "start_time": "2022-04-07T07:48:28.861Z"
   },
   {
    "duration": 37,
    "start_time": "2022-04-07T07:48:29.660Z"
   },
   {
    "duration": 45,
    "start_time": "2022-04-07T07:48:29.700Z"
   },
   {
    "duration": 5,
    "start_time": "2022-04-07T07:48:29.748Z"
   },
   {
    "duration": 10,
    "start_time": "2022-04-07T07:48:29.755Z"
   },
   {
    "duration": 77,
    "start_time": "2022-04-07T07:48:29.767Z"
   },
   {
    "duration": 12,
    "start_time": "2022-04-07T07:48:29.848Z"
   },
   {
    "duration": 89,
    "start_time": "2022-04-07T07:48:29.863Z"
   },
   {
    "duration": 16,
    "start_time": "2022-04-07T07:48:29.956Z"
   },
   {
    "duration": 20,
    "start_time": "2022-04-07T07:48:30.044Z"
   },
   {
    "duration": 8,
    "start_time": "2022-04-07T07:48:30.067Z"
   },
   {
    "duration": 167,
    "start_time": "2022-04-07T07:48:30.078Z"
   },
   {
    "duration": 1837,
    "start_time": "2022-04-07T07:50:28.156Z"
   },
   {
    "duration": 24,
    "start_time": "2022-04-07T07:50:30.001Z"
   },
   {
    "duration": 35,
    "start_time": "2022-04-07T07:50:30.027Z"
   },
   {
    "duration": 79,
    "start_time": "2022-04-07T07:50:30.066Z"
   },
   {
    "duration": 71,
    "start_time": "2022-04-07T07:50:30.148Z"
   },
   {
    "duration": 23,
    "start_time": "2022-04-07T07:50:30.221Z"
   },
   {
    "duration": 116,
    "start_time": "2022-04-07T07:50:30.246Z"
   },
   {
    "duration": 72,
    "start_time": "2022-04-07T07:50:30.366Z"
   },
   {
    "duration": 53,
    "start_time": "2022-04-07T07:50:30.463Z"
   },
   {
    "duration": 150,
    "start_time": "2022-04-07T07:50:30.521Z"
   },
   {
    "duration": 30,
    "start_time": "2022-04-07T07:50:30.674Z"
   },
   {
    "duration": 87,
    "start_time": "2022-04-07T07:50:30.707Z"
   },
   {
    "duration": 178,
    "start_time": "2022-04-07T07:50:30.797Z"
   },
   {
    "duration": 1765,
    "start_time": "2022-04-07T07:55:45.217Z"
   },
   {
    "duration": 35,
    "start_time": "2022-04-07T07:55:46.985Z"
   },
   {
    "duration": 32,
    "start_time": "2022-04-07T07:55:47.023Z"
   },
   {
    "duration": 46,
    "start_time": "2022-04-07T07:55:47.059Z"
   },
   {
    "duration": 5,
    "start_time": "2022-04-07T07:55:47.108Z"
   },
   {
    "duration": 51,
    "start_time": "2022-04-07T07:55:47.115Z"
   },
   {
    "duration": 93,
    "start_time": "2022-04-07T07:55:47.169Z"
   },
   {
    "duration": 11,
    "start_time": "2022-04-07T07:55:47.272Z"
   },
   {
    "duration": 65,
    "start_time": "2022-04-07T07:55:47.286Z"
   },
   {
    "duration": 15,
    "start_time": "2022-04-07T07:55:47.355Z"
   },
   {
    "duration": 98,
    "start_time": "2022-04-07T07:55:47.373Z"
   },
   {
    "duration": 12,
    "start_time": "2022-04-07T07:55:47.473Z"
   },
   {
    "duration": 82,
    "start_time": "2022-04-07T07:55:47.487Z"
   }
  ],
  "kernelspec": {
   "display_name": "Python 3 (ipykernel)",
   "language": "python",
   "name": "python3"
  },
  "language_info": {
   "codemirror_mode": {
    "name": "ipython",
    "version": 3
   },
   "file_extension": ".py",
   "mimetype": "text/x-python",
   "name": "python",
   "nbconvert_exporter": "python",
   "pygments_lexer": "ipython3",
   "version": "3.8.10"
  },
  "toc": {
   "base_numbering": 1,
   "nav_menu": {},
   "number_sections": true,
   "sideBar": true,
   "skip_h1_title": true,
   "title_cell": "Содержание",
   "title_sidebar": "Contents",
   "toc_cell": true,
   "toc_position": {},
   "toc_section_display": true,
   "toc_window_display": true
  }
 },
 "nbformat": 4,
 "nbformat_minor": 2
}
